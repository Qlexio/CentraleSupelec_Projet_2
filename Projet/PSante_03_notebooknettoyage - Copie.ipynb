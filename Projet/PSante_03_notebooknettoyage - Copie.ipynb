{
 "cells": [
  {
   "cell_type": "code",
   "execution_count": null,
   "source": [],
   "outputs": [],
   "metadata": {}
  },
  {
   "cell_type": "markdown",
   "source": [
    "# Nettoyage des données\n",
    "\n",
    "1. Traitement des valeurs aberrantes\n",
    "2. Traitement des valeurs manquantes"
   ],
   "metadata": {}
  },
  {
   "cell_type": "code",
   "execution_count": 1,
   "source": [
    "import pandas as pd\r\n",
    "# import lux\r\n",
    "\r\n",
    "# lux.config.sampling = False\r\n",
    "#lux.config.plotting_backend = \"matplotlib\"\r\n",
    "\r\n",
    "datas = pd.read_csv(\"PSante_02_app_products.csv\", encoding=\"utf-8\")\r\n",
    "datas"
   ],
   "outputs": [
    {
     "output_type": "execute_result",
     "data": {
      "text/plain": [
       "                             product_name                 brands  origins  \\\n",
       "0                        Nectar d'abricot  Ferme de l'Aiguemarse      NaN   \n",
       "1                     Naturablue original            Natura4Ever      NaN   \n",
       "2       Blanquette de Volaille et son Riz           Comme J’aime   France   \n",
       "3                            Salade Cesar     Kirkland Signature   Québec   \n",
       "4          Danoises à la cannelle roulées     Kirkland Signature   Québec   \n",
       "...                                   ...                    ...      ...   \n",
       "116263                     Tomate côtelée       Primora, Balance  Espagne   \n",
       "116264               pain batard cereales                super u      NaN   \n",
       "116265         raviolis pekinois surgelés              asia food  Hongrie   \n",
       "116266                        cup noodles                 nissin      NaN   \n",
       "116267   Erdbeerkuchen 1019g tiefgefroren     Coppenrath & Wiese      NaN   \n",
       "\n",
       "       manufacturing_places  purchase_places    countries nutriscore_grade  \\\n",
       "0             bénivay-ollon           France    en:France              NaN   \n",
       "1                    France           France       France              NaN   \n",
       "2                    France           France       France                b   \n",
       "3           Brossard Québec              NaN       Canada                c   \n",
       "4           Brossard Québec  Brossard Québec       Canada              NaN   \n",
       "...                     ...              ...          ...              ...   \n",
       "116263              Almeria           France    en:France              NaN   \n",
       "116264               france              NaN       France              NaN   \n",
       "116265              Hongrie           France    en:France              NaN   \n",
       "116266              Hongrie           France       France              NaN   \n",
       "116267   Meppen,Deutschland              NaN  Deutschland                d   \n",
       "\n",
       "        energy_100g  saturated-fat_100g  fiber_100g  proteins_100g  \\\n",
       "0               NaN                 NaN         NaN            NaN   \n",
       "1               0.0                0.00         NaN           0.00   \n",
       "2             450.0                0.90        0.50           6.80   \n",
       "3            1210.0                7.00        2.00          22.00   \n",
       "4            1520.0                 NaN        2.05           4.79   \n",
       "...             ...                 ...         ...            ...   \n",
       "116263          NaN                 NaN         NaN            NaN   \n",
       "116264          NaN                 NaN         NaN            NaN   \n",
       "116265       3883.0                3.79         NaN            NaN   \n",
       "116266        351.0                2.00        0.00           1.80   \n",
       "116267        925.0                4.80         NaN           2.60   \n",
       "\n",
       "        sodium_100g  nutrition-score-fr_100g  \n",
       "0               NaN                      NaN  \n",
       "1               NaN                      NaN  \n",
       "2           0.28000                      0.0  \n",
       "3           0.86400                      6.0  \n",
       "4           0.36900                      NaN  \n",
       "...             ...                      ...  \n",
       "116263          NaN                      NaN  \n",
       "116264          NaN                      NaN  \n",
       "116265      0.41656                      NaN  \n",
       "116266      0.40000                      NaN  \n",
       "116267      0.11200                     12.0  \n",
       "\n",
       "[116268 rows x 13 columns]"
      ],
      "text/html": [
       "<div>\n",
       "<style scoped>\n",
       "    .dataframe tbody tr th:only-of-type {\n",
       "        vertical-align: middle;\n",
       "    }\n",
       "\n",
       "    .dataframe tbody tr th {\n",
       "        vertical-align: top;\n",
       "    }\n",
       "\n",
       "    .dataframe thead th {\n",
       "        text-align: right;\n",
       "    }\n",
       "</style>\n",
       "<table border=\"1\" class=\"dataframe\">\n",
       "  <thead>\n",
       "    <tr style=\"text-align: right;\">\n",
       "      <th></th>\n",
       "      <th>product_name</th>\n",
       "      <th>brands</th>\n",
       "      <th>origins</th>\n",
       "      <th>manufacturing_places</th>\n",
       "      <th>purchase_places</th>\n",
       "      <th>countries</th>\n",
       "      <th>nutriscore_grade</th>\n",
       "      <th>energy_100g</th>\n",
       "      <th>saturated-fat_100g</th>\n",
       "      <th>fiber_100g</th>\n",
       "      <th>proteins_100g</th>\n",
       "      <th>sodium_100g</th>\n",
       "      <th>nutrition-score-fr_100g</th>\n",
       "    </tr>\n",
       "  </thead>\n",
       "  <tbody>\n",
       "    <tr>\n",
       "      <th>0</th>\n",
       "      <td>Nectar d'abricot</td>\n",
       "      <td>Ferme de l'Aiguemarse</td>\n",
       "      <td>NaN</td>\n",
       "      <td>bénivay-ollon</td>\n",
       "      <td>France</td>\n",
       "      <td>en:France</td>\n",
       "      <td>NaN</td>\n",
       "      <td>NaN</td>\n",
       "      <td>NaN</td>\n",
       "      <td>NaN</td>\n",
       "      <td>NaN</td>\n",
       "      <td>NaN</td>\n",
       "      <td>NaN</td>\n",
       "    </tr>\n",
       "    <tr>\n",
       "      <th>1</th>\n",
       "      <td>Naturablue original</td>\n",
       "      <td>Natura4Ever</td>\n",
       "      <td>NaN</td>\n",
       "      <td>France</td>\n",
       "      <td>France</td>\n",
       "      <td>France</td>\n",
       "      <td>NaN</td>\n",
       "      <td>0.0</td>\n",
       "      <td>0.00</td>\n",
       "      <td>NaN</td>\n",
       "      <td>0.00</td>\n",
       "      <td>NaN</td>\n",
       "      <td>NaN</td>\n",
       "    </tr>\n",
       "    <tr>\n",
       "      <th>2</th>\n",
       "      <td>Blanquette de Volaille et son Riz</td>\n",
       "      <td>Comme J’aime</td>\n",
       "      <td>France</td>\n",
       "      <td>France</td>\n",
       "      <td>France</td>\n",
       "      <td>France</td>\n",
       "      <td>b</td>\n",
       "      <td>450.0</td>\n",
       "      <td>0.90</td>\n",
       "      <td>0.50</td>\n",
       "      <td>6.80</td>\n",
       "      <td>0.28000</td>\n",
       "      <td>0.0</td>\n",
       "    </tr>\n",
       "    <tr>\n",
       "      <th>3</th>\n",
       "      <td>Salade Cesar</td>\n",
       "      <td>Kirkland Signature</td>\n",
       "      <td>Québec</td>\n",
       "      <td>Brossard Québec</td>\n",
       "      <td>NaN</td>\n",
       "      <td>Canada</td>\n",
       "      <td>c</td>\n",
       "      <td>1210.0</td>\n",
       "      <td>7.00</td>\n",
       "      <td>2.00</td>\n",
       "      <td>22.00</td>\n",
       "      <td>0.86400</td>\n",
       "      <td>6.0</td>\n",
       "    </tr>\n",
       "    <tr>\n",
       "      <th>4</th>\n",
       "      <td>Danoises à la cannelle roulées</td>\n",
       "      <td>Kirkland Signature</td>\n",
       "      <td>Québec</td>\n",
       "      <td>Brossard Québec</td>\n",
       "      <td>Brossard Québec</td>\n",
       "      <td>Canada</td>\n",
       "      <td>NaN</td>\n",
       "      <td>1520.0</td>\n",
       "      <td>NaN</td>\n",
       "      <td>2.05</td>\n",
       "      <td>4.79</td>\n",
       "      <td>0.36900</td>\n",
       "      <td>NaN</td>\n",
       "    </tr>\n",
       "    <tr>\n",
       "      <th>...</th>\n",
       "      <td>...</td>\n",
       "      <td>...</td>\n",
       "      <td>...</td>\n",
       "      <td>...</td>\n",
       "      <td>...</td>\n",
       "      <td>...</td>\n",
       "      <td>...</td>\n",
       "      <td>...</td>\n",
       "      <td>...</td>\n",
       "      <td>...</td>\n",
       "      <td>...</td>\n",
       "      <td>...</td>\n",
       "      <td>...</td>\n",
       "    </tr>\n",
       "    <tr>\n",
       "      <th>116263</th>\n",
       "      <td>Tomate côtelée</td>\n",
       "      <td>Primora, Balance</td>\n",
       "      <td>Espagne</td>\n",
       "      <td>Almeria</td>\n",
       "      <td>France</td>\n",
       "      <td>en:France</td>\n",
       "      <td>NaN</td>\n",
       "      <td>NaN</td>\n",
       "      <td>NaN</td>\n",
       "      <td>NaN</td>\n",
       "      <td>NaN</td>\n",
       "      <td>NaN</td>\n",
       "      <td>NaN</td>\n",
       "    </tr>\n",
       "    <tr>\n",
       "      <th>116264</th>\n",
       "      <td>pain batard cereales</td>\n",
       "      <td>super u</td>\n",
       "      <td>NaN</td>\n",
       "      <td>france</td>\n",
       "      <td>NaN</td>\n",
       "      <td>France</td>\n",
       "      <td>NaN</td>\n",
       "      <td>NaN</td>\n",
       "      <td>NaN</td>\n",
       "      <td>NaN</td>\n",
       "      <td>NaN</td>\n",
       "      <td>NaN</td>\n",
       "      <td>NaN</td>\n",
       "    </tr>\n",
       "    <tr>\n",
       "      <th>116265</th>\n",
       "      <td>raviolis pekinois surgelés</td>\n",
       "      <td>asia food</td>\n",
       "      <td>Hongrie</td>\n",
       "      <td>Hongrie</td>\n",
       "      <td>France</td>\n",
       "      <td>en:France</td>\n",
       "      <td>NaN</td>\n",
       "      <td>3883.0</td>\n",
       "      <td>3.79</td>\n",
       "      <td>NaN</td>\n",
       "      <td>NaN</td>\n",
       "      <td>0.41656</td>\n",
       "      <td>NaN</td>\n",
       "    </tr>\n",
       "    <tr>\n",
       "      <th>116266</th>\n",
       "      <td>cup noodles</td>\n",
       "      <td>nissin</td>\n",
       "      <td>NaN</td>\n",
       "      <td>Hongrie</td>\n",
       "      <td>France</td>\n",
       "      <td>France</td>\n",
       "      <td>NaN</td>\n",
       "      <td>351.0</td>\n",
       "      <td>2.00</td>\n",
       "      <td>0.00</td>\n",
       "      <td>1.80</td>\n",
       "      <td>0.40000</td>\n",
       "      <td>NaN</td>\n",
       "    </tr>\n",
       "    <tr>\n",
       "      <th>116267</th>\n",
       "      <td>Erdbeerkuchen 1019g tiefgefroren</td>\n",
       "      <td>Coppenrath &amp; Wiese</td>\n",
       "      <td>NaN</td>\n",
       "      <td>Meppen,Deutschland</td>\n",
       "      <td>NaN</td>\n",
       "      <td>Deutschland</td>\n",
       "      <td>d</td>\n",
       "      <td>925.0</td>\n",
       "      <td>4.80</td>\n",
       "      <td>NaN</td>\n",
       "      <td>2.60</td>\n",
       "      <td>0.11200</td>\n",
       "      <td>12.0</td>\n",
       "    </tr>\n",
       "  </tbody>\n",
       "</table>\n",
       "<p>116268 rows × 13 columns</p>\n",
       "</div>"
      ]
     },
     "metadata": {},
     "execution_count": 1
    }
   ],
   "metadata": {}
  },
  {
   "cell_type": "code",
   "execution_count": 2,
   "source": [
    "datas.info()"
   ],
   "outputs": [
    {
     "output_type": "stream",
     "name": "stdout",
     "text": [
      "<class 'pandas.core.frame.DataFrame'>\n",
      "RangeIndex: 116268 entries, 0 to 116267\n",
      "Data columns (total 13 columns):\n",
      " #   Column                   Non-Null Count   Dtype  \n",
      "---  ------                   --------------   -----  \n",
      " 0   product_name             115156 non-null  object \n",
      " 1   brands                   114762 non-null  object \n",
      " 2   origins                  50038 non-null   object \n",
      " 3   manufacturing_places     116268 non-null  object \n",
      " 4   purchase_places          86630 non-null   object \n",
      " 5   countries                115934 non-null  object \n",
      " 6   nutriscore_grade         86336 non-null   object \n",
      " 7   energy_100g              96781 non-null   float64\n",
      " 8   saturated-fat_100g       94155 non-null   float64\n",
      " 9   fiber_100g               52738 non-null   float64\n",
      " 10  proteins_100g            96984 non-null   float64\n",
      " 11  sodium_100g              95613 non-null   float64\n",
      " 12  nutrition-score-fr_100g  86338 non-null   float64\n",
      "dtypes: float64(6), object(7)\n",
      "memory usage: 11.5+ MB\n"
     ]
    }
   ],
   "metadata": {}
  },
  {
   "cell_type": "markdown",
   "source": [
    "Je vais maintenant traiter les valeurs aberrantes\r\n",
    "\r\n",
    "Variables qualitatives:\r\n",
    "\r\n",
    "* Product_name, brands, origins, manufacturing_places, purchase_places et countries sont des variables nominales, je ne trouverai pas d'outliers dedans\r\n",
    "* nutriscore_grade est une variable ordinale  qui ne peut prendre que a, b, c, d, e comme valeurs. Je vais vérifier qu'il n'y en ait pas d'autres\r\n",
    "\r\n",
    "Variables quantitatives:\r\n",
    "\r\n",
    "Elles ne peuvent être inférieure à 0 sauf nutrition-score-fr_100g qui est compris entre -15 et 40 inclus\r\n",
    "* energy_100g, je vais considérer les outliers <0 et >Q3 + 1.5*IQ\r\n",
    "* saturated-fat_100g, fiber_100g, proteins_100g et sodium_100g, les valeurs doivent comprises entre 0 et 100 inclus\r\n",
    "* nutrition-score-fr_100g, selon le référentiel officiel le meilleur score est -15 et le pire 40. Les valeurs doivent donc être comprises entre ces deux bornes\r\n",
    "\r\n",
    "J'ai décidé de supprimer les outliers\r\n"
   ],
   "metadata": {}
  },
  {
   "cell_type": "code",
   "execution_count": 3,
   "source": [
    "import matplotlib.pyplot as plt\r\n",
    "\r\n",
    "#datas.boxplot(column=\"nutriscore_grade\", vert=False)\r\n",
    "#plt.show()\r\n",
    "\r\n",
    "length = len(datas.index)"
   ],
   "outputs": [],
   "metadata": {}
  },
  {
   "cell_type": "code",
   "execution_count": 4,
   "source": [
    "# nutriscore_grade\r\n",
    "score_values = datas[\"nutriscore_grade\"].value_counts()\r\n",
    "\r\n",
    "import re\r\n",
    "outlier = []\r\n",
    "count = 0\r\n",
    "\r\n",
    "for score in score_values.index:\r\n",
    "    result = re.findall(r\"[a-eA-E]\", score)\r\n",
    "    if len(result) == 0:\r\n",
    "        outlier.append([score, score_values[count]])\r\n",
    "    count += 1\r\n",
    "\r\n",
    "if len(outlier) > 0:\r\n",
    "    print(\"Outliers:\\n\")\r\n",
    "    print(outlier)\r\n",
    "else:\r\n",
    "    print(\"Il n'y a pas d'outliers\")\r\n"
   ],
   "outputs": [
    {
     "output_type": "stream",
     "name": "stdout",
     "text": [
      "Il n'y a pas d'outliers\n"
     ]
    }
   ],
   "metadata": {}
  },
  {
   "cell_type": "code",
   "execution_count": 5,
   "source": [
    "# Outliers pour variables quantitatives\r\n",
    "\r\n",
    "def get_outliers(datas, column, inf, sup):\r\n",
    "\r\n",
    "    length = len(datas.index)\r\n",
    "    outlier_inf = []\r\n",
    "    outlier_sup = []\r\n",
    "\r\n",
    "    for val in datas[column]:\r\n",
    "        if val < inf:\r\n",
    "            outlier_inf.append(val)\r\n",
    "        if val > sup:\r\n",
    "            outlier_sup.append(val)\r\n",
    "    \r\n",
    "    if len(outlier_inf) > 0 or len(outlier_sup) > 0:\r\n",
    "        print(f\"Borne inf: {inf}, borne sup: {sup}\")\r\n",
    "        print(f\"Il y a {len(outlier_inf) + len(outlier_sup)} / {length} outliers pour {column}\")\r\n",
    "        if len(outlier_inf) > 0:\r\n",
    "            print(f\"\\nOutlier < {inf}:\")\r\n",
    "            print(f\"Il y a {len(outlier_inf)} allant de {min(outlier_inf)} à {max(outlier_inf)}\")\r\n",
    "        if len(outlier_sup) > 0:\r\n",
    "            print(f\"\\nOutlier > {sup}:\")\r\n",
    "            print(f\"Il y a {len(outlier_sup)} allant de {min(outlier_sup)} à {max(outlier_sup)}\")\r\n",
    "\r\n",
    "        datas = datas[((datas[column] >= inf) & (datas[column] <= sup)) | (datas[column].isnull() == True)].reset_index(drop=True)\r\n",
    "        # .info() pour vérifier que le tri a bien été effectué\r\n",
    "        # print(datas.info())\r\n",
    "    else:\r\n",
    "        print(f\"Il n'y a pas d'outliers\")\r\n",
    "\r\n",
    "    return datas"
   ],
   "outputs": [],
   "metadata": {}
  },
  {
   "cell_type": "code",
   "execution_count": 6,
   "source": [
    "# Choix entre méthode inter-quartile et moy + x * std\r\n",
    "\r\n",
    "Q1 = datas[\"energy_100g\"].quantile(q=0.25)\r\n",
    "Q3 = datas[\"energy_100g\"].quantile(q=0.75)\r\n",
    "moustache_sup = Q3 + 1.5 * (Q3 - Q1)\r\n",
    "\r\n",
    "moy = datas[\"energy_100g\"].mean(skipna=True)\r\n",
    "std = datas[\"energy_100g\"].std(skipna=True)\r\n",
    "anomalie_sup1 = moy + std\r\n",
    "anomalie_sup2 = moy + 2 * std\r\n",
    "anomalie_sup3 = moy + 3 * std\r\n",
    "\r\n",
    "print(f\"Valeur sup inter-quartile: {moustache_sup}\")\r\n",
    "print(f\"Valeur sup 1 écart-type: {anomalie_sup1}\")\r\n",
    "print(f\"Valeur sup 2 écart-type: {anomalie_sup2}\")\r\n",
    "print(f\"Valeur sup 3 écart-type: {anomalie_sup3}\")"
   ],
   "outputs": [
    {
     "output_type": "stream",
     "name": "stdout",
     "text": [
      "Valeur sup inter-quartile: 3400.5\n",
      "Valeur sup 1 écart-type: 40446.4238092402\n",
      "Valeur sup 2 écart-type: 79673.50788783576\n",
      "Valeur sup 3 écart-type: 118900.59196643131\n"
     ]
    }
   ],
   "metadata": {}
  },
  {
   "cell_type": "markdown",
   "source": [
    "Selon https://sante.journaldesfemmes.fr/calories/classement/aliments/calories, l'aliment le plus calorique fait 900 kcal/100g soit 3765.6 kJ/100g. Ce qui est très proche de la valeur retournée par la méthode inter-quartile par rapport à la \"méthode des écart-types\" qui donne des valeurs aberrantes\r\n",
    "\r\n",
    "Je vais donc choisir la valeur fournie par un \"expert métier\" pour mes outliers plutôt sur sur des calculs mathématiques approximatifs bien que très proches de la réalité"
   ],
   "metadata": {}
  },
  {
   "cell_type": "code",
   "execution_count": 7,
   "source": [
    "# energy_100g\r\n",
    "\r\n",
    "datas = get_outliers(datas, \"energy_100g\", 0, 3765.6)\r\n"
   ],
   "outputs": [
    {
     "output_type": "stream",
     "name": "stdout",
     "text": [
      "Borne inf: 0, borne sup: 3765.6\n",
      "Il y a 346 / 116268 outliers pour energy_100g\n",
      "\n",
      "Outlier > 3765.6:\n",
      "Il y a 346 allant de 3766.0 à 12200000.0\n"
     ]
    }
   ],
   "metadata": {}
  },
  {
   "cell_type": "markdown",
   "source": [
    "J'ai décidé de supprimer les outliers"
   ],
   "metadata": {}
  },
  {
   "cell_type": "code",
   "execution_count": 8,
   "source": [
    "# saturated-fat_100g\r\n",
    "\r\n",
    "datas = get_outliers(datas, \"saturated-fat_100g\", 0, 100)"
   ],
   "outputs": [
    {
     "output_type": "stream",
     "name": "stdout",
     "text": [
      "Borne inf: 0, borne sup: 100\n",
      "Il y a 4 / 115922 outliers pour saturated-fat_100g\n",
      "\n",
      "Outlier > 100:\n",
      "Il y a 4 allant de 189.0 à 9999999.0\n"
     ]
    }
   ],
   "metadata": {}
  },
  {
   "cell_type": "code",
   "execution_count": 9,
   "source": [
    "# fiber_100g\r\n",
    "\r\n",
    "datas = get_outliers(datas, \"fiber_100g\", 0, 100)"
   ],
   "outputs": [
    {
     "output_type": "stream",
     "name": "stdout",
     "text": [
      "Borne inf: 0, borne sup: 100\n",
      "Il y a 13 / 115918 outliers pour fiber_100g\n",
      "\n",
      "Outlier < 0:\n",
      "Il y a 11 allant de -20.0 à -0.4\n",
      "\n",
      "Outlier > 100:\n",
      "Il y a 2 allant de 310.0 à 333.0\n"
     ]
    }
   ],
   "metadata": {}
  },
  {
   "cell_type": "code",
   "execution_count": 10,
   "source": [
    "# proteins_100g\r\n",
    "\r\n",
    "datas = get_outliers(datas, \"proteins_100g\", 0, 100)"
   ],
   "outputs": [
    {
     "output_type": "stream",
     "name": "stdout",
     "text": [
      "Borne inf: 0, borne sup: 100\n",
      "Il y a 5 / 115905 outliers pour proteins_100g\n",
      "\n",
      "Outlier > 100:\n",
      "Il y a 5 allant de 103.0 à 300.0\n"
     ]
    }
   ],
   "metadata": {}
  },
  {
   "cell_type": "code",
   "execution_count": 11,
   "source": [
    "# sodium_100g\r\n",
    "\r\n",
    "datas = get_outliers(datas, \"sodium_100g\", 0, 100)"
   ],
   "outputs": [
    {
     "output_type": "stream",
     "name": "stdout",
     "text": [
      "Borne inf: 0, borne sup: 100\n",
      "Il y a 77 / 115900 outliers pour sodium_100g\n",
      "\n",
      "Outlier > 100:\n",
      "Il y a 77 allant de 105.0 à 995.68\n"
     ]
    }
   ],
   "metadata": {}
  },
  {
   "cell_type": "code",
   "execution_count": 12,
   "source": [
    "# nutrition-score-fr_100g\r\n",
    "\r\n",
    "datas = get_outliers(datas, \"nutrition-score-fr_100g\", -15, 40)"
   ],
   "outputs": [
    {
     "output_type": "stream",
     "name": "stdout",
     "text": [
      "Il n'y a pas d'outliers\n"
     ]
    }
   ],
   "metadata": {}
  },
  {
   "cell_type": "markdown",
   "source": [
    "Je peux maintenant m'atteler aux valeurs manquantes\r\n",
    "\r\n",
    "Lors du datas.info() on peut voir qu'il manque des noms de produits \r\n",
    "\r\n",
    "* 1/ Je vais regarder les valeurs qualitatives nominales et définir lesquels sont pertinentes à être complétées ou pas\r\n",
    "  * product_name\r\n",
    "  * brands\r\n",
    "  * origins\r\n",
    "  * manufacturing_places\r\n",
    "  * purchase_places\r\n",
    "  * countries\r\n",
    "* 2/ Ensuite, je m'attelle aux variables quantitatives et définis un ordre de complétion\r\n",
    "  * energy_100g\r\n",
    "  * saturated-fat_100g\r\n",
    "  * fiber_100g\r\n",
    "  * proteins_100g\r\n",
    "  * sodium_100g\r\n",
    "  * nutrition-score-fr_100g\r\n",
    "* 3/ Nutrition-score-fr_100g qui est une variable qualitative ordinale sera la dernière à être complétée étant donné que ces valeurs dépendent de mes variables quantitatives\r\n"
   ],
   "metadata": {}
  },
  {
   "cell_type": "code",
   "execution_count": 13,
   "source": [
    "# lux.config.plotting_scale = 2\r\n",
    "\r\n",
    "datas"
   ],
   "outputs": [
    {
     "output_type": "execute_result",
     "data": {
      "text/plain": [
       "                             product_name                 brands  origins  \\\n",
       "0                        Nectar d'abricot  Ferme de l'Aiguemarse      NaN   \n",
       "1                     Naturablue original            Natura4Ever      NaN   \n",
       "2       Blanquette de Volaille et son Riz           Comme J’aime   France   \n",
       "3                            Salade Cesar     Kirkland Signature   Québec   \n",
       "4          Danoises à la cannelle roulées     Kirkland Signature   Québec   \n",
       "...                                   ...                    ...      ...   \n",
       "115818                     cube mendiants         maison Gaucher      NaN   \n",
       "115819                     Tomate côtelée       Primora, Balance  Espagne   \n",
       "115820               pain batard cereales                super u      NaN   \n",
       "115821                        cup noodles                 nissin      NaN   \n",
       "115822   Erdbeerkuchen 1019g tiefgefroren     Coppenrath & Wiese      NaN   \n",
       "\n",
       "       manufacturing_places  purchase_places    countries nutriscore_grade  \\\n",
       "0             bénivay-ollon           France    en:France              NaN   \n",
       "1                    France           France       France              NaN   \n",
       "2                    France           France       France                b   \n",
       "3           Brossard Québec              NaN       Canada                c   \n",
       "4           Brossard Québec  Brossard Québec       Canada              NaN   \n",
       "...                     ...              ...          ...              ...   \n",
       "115818             sorbiers           France       France              NaN   \n",
       "115819              Almeria           France    en:France              NaN   \n",
       "115820               france              NaN       France              NaN   \n",
       "115821              Hongrie           France       France              NaN   \n",
       "115822   Meppen,Deutschland              NaN  Deutschland                d   \n",
       "\n",
       "        energy_100g  saturated-fat_100g  fiber_100g  proteins_100g  \\\n",
       "0               NaN                 NaN         NaN            NaN   \n",
       "1               0.0                 0.0         NaN           0.00   \n",
       "2             450.0                 0.9        0.50           6.80   \n",
       "3            1210.0                 7.0        2.00          22.00   \n",
       "4            1520.0                 NaN        2.05           4.79   \n",
       "...             ...                 ...         ...            ...   \n",
       "115818          NaN                 NaN         NaN            NaN   \n",
       "115819          NaN                 NaN         NaN            NaN   \n",
       "115820          NaN                 NaN         NaN            NaN   \n",
       "115821        351.0                 2.0        0.00           1.80   \n",
       "115822        925.0                 4.8         NaN           2.60   \n",
       "\n",
       "        sodium_100g  nutrition-score-fr_100g  \n",
       "0               NaN                      NaN  \n",
       "1               NaN                      NaN  \n",
       "2             0.280                      0.0  \n",
       "3             0.864                      6.0  \n",
       "4             0.369                      NaN  \n",
       "...             ...                      ...  \n",
       "115818          NaN                      NaN  \n",
       "115819          NaN                      NaN  \n",
       "115820          NaN                      NaN  \n",
       "115821        0.400                      NaN  \n",
       "115822        0.112                     12.0  \n",
       "\n",
       "[115823 rows x 13 columns]"
      ],
      "text/html": [
       "<div>\n",
       "<style scoped>\n",
       "    .dataframe tbody tr th:only-of-type {\n",
       "        vertical-align: middle;\n",
       "    }\n",
       "\n",
       "    .dataframe tbody tr th {\n",
       "        vertical-align: top;\n",
       "    }\n",
       "\n",
       "    .dataframe thead th {\n",
       "        text-align: right;\n",
       "    }\n",
       "</style>\n",
       "<table border=\"1\" class=\"dataframe\">\n",
       "  <thead>\n",
       "    <tr style=\"text-align: right;\">\n",
       "      <th></th>\n",
       "      <th>product_name</th>\n",
       "      <th>brands</th>\n",
       "      <th>origins</th>\n",
       "      <th>manufacturing_places</th>\n",
       "      <th>purchase_places</th>\n",
       "      <th>countries</th>\n",
       "      <th>nutriscore_grade</th>\n",
       "      <th>energy_100g</th>\n",
       "      <th>saturated-fat_100g</th>\n",
       "      <th>fiber_100g</th>\n",
       "      <th>proteins_100g</th>\n",
       "      <th>sodium_100g</th>\n",
       "      <th>nutrition-score-fr_100g</th>\n",
       "    </tr>\n",
       "  </thead>\n",
       "  <tbody>\n",
       "    <tr>\n",
       "      <th>0</th>\n",
       "      <td>Nectar d'abricot</td>\n",
       "      <td>Ferme de l'Aiguemarse</td>\n",
       "      <td>NaN</td>\n",
       "      <td>bénivay-ollon</td>\n",
       "      <td>France</td>\n",
       "      <td>en:France</td>\n",
       "      <td>NaN</td>\n",
       "      <td>NaN</td>\n",
       "      <td>NaN</td>\n",
       "      <td>NaN</td>\n",
       "      <td>NaN</td>\n",
       "      <td>NaN</td>\n",
       "      <td>NaN</td>\n",
       "    </tr>\n",
       "    <tr>\n",
       "      <th>1</th>\n",
       "      <td>Naturablue original</td>\n",
       "      <td>Natura4Ever</td>\n",
       "      <td>NaN</td>\n",
       "      <td>France</td>\n",
       "      <td>France</td>\n",
       "      <td>France</td>\n",
       "      <td>NaN</td>\n",
       "      <td>0.0</td>\n",
       "      <td>0.0</td>\n",
       "      <td>NaN</td>\n",
       "      <td>0.00</td>\n",
       "      <td>NaN</td>\n",
       "      <td>NaN</td>\n",
       "    </tr>\n",
       "    <tr>\n",
       "      <th>2</th>\n",
       "      <td>Blanquette de Volaille et son Riz</td>\n",
       "      <td>Comme J’aime</td>\n",
       "      <td>France</td>\n",
       "      <td>France</td>\n",
       "      <td>France</td>\n",
       "      <td>France</td>\n",
       "      <td>b</td>\n",
       "      <td>450.0</td>\n",
       "      <td>0.9</td>\n",
       "      <td>0.50</td>\n",
       "      <td>6.80</td>\n",
       "      <td>0.280</td>\n",
       "      <td>0.0</td>\n",
       "    </tr>\n",
       "    <tr>\n",
       "      <th>3</th>\n",
       "      <td>Salade Cesar</td>\n",
       "      <td>Kirkland Signature</td>\n",
       "      <td>Québec</td>\n",
       "      <td>Brossard Québec</td>\n",
       "      <td>NaN</td>\n",
       "      <td>Canada</td>\n",
       "      <td>c</td>\n",
       "      <td>1210.0</td>\n",
       "      <td>7.0</td>\n",
       "      <td>2.00</td>\n",
       "      <td>22.00</td>\n",
       "      <td>0.864</td>\n",
       "      <td>6.0</td>\n",
       "    </tr>\n",
       "    <tr>\n",
       "      <th>4</th>\n",
       "      <td>Danoises à la cannelle roulées</td>\n",
       "      <td>Kirkland Signature</td>\n",
       "      <td>Québec</td>\n",
       "      <td>Brossard Québec</td>\n",
       "      <td>Brossard Québec</td>\n",
       "      <td>Canada</td>\n",
       "      <td>NaN</td>\n",
       "      <td>1520.0</td>\n",
       "      <td>NaN</td>\n",
       "      <td>2.05</td>\n",
       "      <td>4.79</td>\n",
       "      <td>0.369</td>\n",
       "      <td>NaN</td>\n",
       "    </tr>\n",
       "    <tr>\n",
       "      <th>...</th>\n",
       "      <td>...</td>\n",
       "      <td>...</td>\n",
       "      <td>...</td>\n",
       "      <td>...</td>\n",
       "      <td>...</td>\n",
       "      <td>...</td>\n",
       "      <td>...</td>\n",
       "      <td>...</td>\n",
       "      <td>...</td>\n",
       "      <td>...</td>\n",
       "      <td>...</td>\n",
       "      <td>...</td>\n",
       "      <td>...</td>\n",
       "    </tr>\n",
       "    <tr>\n",
       "      <th>115818</th>\n",
       "      <td>cube mendiants</td>\n",
       "      <td>maison Gaucher</td>\n",
       "      <td>NaN</td>\n",
       "      <td>sorbiers</td>\n",
       "      <td>France</td>\n",
       "      <td>France</td>\n",
       "      <td>NaN</td>\n",
       "      <td>NaN</td>\n",
       "      <td>NaN</td>\n",
       "      <td>NaN</td>\n",
       "      <td>NaN</td>\n",
       "      <td>NaN</td>\n",
       "      <td>NaN</td>\n",
       "    </tr>\n",
       "    <tr>\n",
       "      <th>115819</th>\n",
       "      <td>Tomate côtelée</td>\n",
       "      <td>Primora, Balance</td>\n",
       "      <td>Espagne</td>\n",
       "      <td>Almeria</td>\n",
       "      <td>France</td>\n",
       "      <td>en:France</td>\n",
       "      <td>NaN</td>\n",
       "      <td>NaN</td>\n",
       "      <td>NaN</td>\n",
       "      <td>NaN</td>\n",
       "      <td>NaN</td>\n",
       "      <td>NaN</td>\n",
       "      <td>NaN</td>\n",
       "    </tr>\n",
       "    <tr>\n",
       "      <th>115820</th>\n",
       "      <td>pain batard cereales</td>\n",
       "      <td>super u</td>\n",
       "      <td>NaN</td>\n",
       "      <td>france</td>\n",
       "      <td>NaN</td>\n",
       "      <td>France</td>\n",
       "      <td>NaN</td>\n",
       "      <td>NaN</td>\n",
       "      <td>NaN</td>\n",
       "      <td>NaN</td>\n",
       "      <td>NaN</td>\n",
       "      <td>NaN</td>\n",
       "      <td>NaN</td>\n",
       "    </tr>\n",
       "    <tr>\n",
       "      <th>115821</th>\n",
       "      <td>cup noodles</td>\n",
       "      <td>nissin</td>\n",
       "      <td>NaN</td>\n",
       "      <td>Hongrie</td>\n",
       "      <td>France</td>\n",
       "      <td>France</td>\n",
       "      <td>NaN</td>\n",
       "      <td>351.0</td>\n",
       "      <td>2.0</td>\n",
       "      <td>0.00</td>\n",
       "      <td>1.80</td>\n",
       "      <td>0.400</td>\n",
       "      <td>NaN</td>\n",
       "    </tr>\n",
       "    <tr>\n",
       "      <th>115822</th>\n",
       "      <td>Erdbeerkuchen 1019g tiefgefroren</td>\n",
       "      <td>Coppenrath &amp; Wiese</td>\n",
       "      <td>NaN</td>\n",
       "      <td>Meppen,Deutschland</td>\n",
       "      <td>NaN</td>\n",
       "      <td>Deutschland</td>\n",
       "      <td>d</td>\n",
       "      <td>925.0</td>\n",
       "      <td>4.8</td>\n",
       "      <td>NaN</td>\n",
       "      <td>2.60</td>\n",
       "      <td>0.112</td>\n",
       "      <td>12.0</td>\n",
       "    </tr>\n",
       "  </tbody>\n",
       "</table>\n",
       "<p>115823 rows × 13 columns</p>\n",
       "</div>"
      ]
     },
     "metadata": {},
     "execution_count": 13
    }
   ],
   "metadata": {}
  },
  {
   "cell_type": "markdown",
   "source": [
    "# Variables qualitatives\r\n",
    "\r\n",
    "Par souci de cohérence, je vais supprimer les valeurs nulles des noms de produits parce que chaque produit porte un nom unique qui lui est propre et ça va être compliqué de lui en attribuer un correspondant à ce qu'il est réellement\r\n",
    "\r\n",
    "De plus, il n'est pas très utile pour un consommateur d'avoir un lieu de fabrication ou une marque sans connaitre le nom du produit associé"
   ],
   "metadata": {}
  },
  {
   "cell_type": "code",
   "execution_count": 14,
   "source": [
    "datas = datas[datas[\"product_name\"].isnull() == False].reset_index(drop= True)\r\n",
    "datas.info()"
   ],
   "outputs": [
    {
     "output_type": "stream",
     "name": "stdout",
     "text": [
      "<class 'pandas.core.frame.DataFrame'>\n",
      "RangeIndex: 114720 entries, 0 to 114719\n",
      "Data columns (total 13 columns):\n",
      " #   Column                   Non-Null Count   Dtype  \n",
      "---  ------                   --------------   -----  \n",
      " 0   product_name             114720 non-null  object \n",
      " 1   brands                   113353 non-null  object \n",
      " 2   origins                  49302 non-null   object \n",
      " 3   manufacturing_places     114720 non-null  object \n",
      " 4   purchase_places          85539 non-null   object \n",
      " 5   countries                114396 non-null  object \n",
      " 6   nutriscore_grade         85490 non-null   object \n",
      " 7   energy_100g              95664 non-null   float64\n",
      " 8   saturated-fat_100g       93105 non-null   float64\n",
      " 9   fiber_100g               52113 non-null   float64\n",
      " 10  proteins_100g            95898 non-null   float64\n",
      " 11  sodium_100g              94542 non-null   float64\n",
      " 12  nutrition-score-fr_100g  85492 non-null   float64\n",
      "dtypes: float64(6), object(7)\n",
      "memory usage: 11.4+ MB\n"
     ]
    }
   ],
   "metadata": {}
  },
  {
   "cell_type": "markdown",
   "source": [
    "* brands => à compléter par \"inconnu\"\r\n",
    "* origins => à analyser un peu plus\r\n",
    "* purchase_places => à supprimer car pas pertinent au final dans le cadre de l'application car je pars du principe que l'utilisateur va se référer à des produits qu'il connait déjà et qu'il trouve dans son supermarché habituel\r\n",
    "* countries => à compléter \"inconnu\""
   ],
   "metadata": {}
  },
  {
   "cell_type": "code",
   "execution_count": 15,
   "source": [
    "# suppression de purchase_places\r\n",
    "\r\n",
    "columns = [x for x in datas.columns if x not in \"purchase_places\"]\r\n",
    "\r\n",
    "datas = datas.loc[:, columns]\r\n",
    "datas.info()"
   ],
   "outputs": [
    {
     "output_type": "stream",
     "name": "stdout",
     "text": [
      "<class 'pandas.core.frame.DataFrame'>\n",
      "RangeIndex: 114720 entries, 0 to 114719\n",
      "Data columns (total 12 columns):\n",
      " #   Column                   Non-Null Count   Dtype  \n",
      "---  ------                   --------------   -----  \n",
      " 0   product_name             114720 non-null  object \n",
      " 1   brands                   113353 non-null  object \n",
      " 2   origins                  49302 non-null   object \n",
      " 3   manufacturing_places     114720 non-null  object \n",
      " 4   countries                114396 non-null  object \n",
      " 5   nutriscore_grade         85490 non-null   object \n",
      " 6   energy_100g              95664 non-null   float64\n",
      " 7   saturated-fat_100g       93105 non-null   float64\n",
      " 8   fiber_100g               52113 non-null   float64\n",
      " 9   proteins_100g            95898 non-null   float64\n",
      " 10  sodium_100g              94542 non-null   float64\n",
      " 11  nutrition-score-fr_100g  85492 non-null   float64\n",
      "dtypes: float64(6), object(6)\n",
      "memory usage: 10.5+ MB\n"
     ]
    }
   ],
   "metadata": {}
  },
  {
   "cell_type": "code",
   "execution_count": 16,
   "source": [
    "x_null = []\r\n",
    "y_col = []\r\n",
    "\r\n",
    "for col in datas.columns:\r\n",
    "    \r\n",
    "    nb_null = datas[col].isnull().sum()\r\n",
    "    perc_null = nb_null / length * 100\r\n",
    "\r\n",
    "    x_null.append(perc_null)\r\n",
    "    y_col.append(col)\r\n",
    "\r\n",
    "tab = pd.DataFrame(y_col, columns=[\"y_col\"])\r\n",
    "tab[\"x_null\"] = x_null\r\n",
    "\r\n",
    "fig = plt.figure(figsize=(10,10))\r\n",
    "plt.axvline(25, linestyle=\"--\", color=\"g\", label=f\"25%\")\r\n",
    "plt.axvline(50, linestyle=\"--\", color=\"b\", label=f\"50%\")\r\n",
    "plt.axvline(75, linestyle=\"--\", color=\"y\", label=f\"75%\")\r\n",
    "plt.axvline(90, linestyle=\"--\", color=\"r\", label=f\"90%\")\r\n",
    "plt.barh(tab[\"y_col\"], tab[\"x_null\"])\r\n",
    "# tab.plot(x = \"y_col\", y = \"x_null\", kind= \"barh\", figsize=(10, 10))\r\n",
    "plt.legend()\r\n",
    "plt.show()\r\n"
   ],
   "outputs": [
    {
     "output_type": "display_data",
     "data": {
      "text/plain": [
       "<Figure size 720x720 with 1 Axes>"
      ],
      "image/png": "[encoded data removed]"
     },
     "metadata": {
      "needs_background": "light"
     }
    }
   ],
   "metadata": {}
  },
  {
   "cell_type": "code",
   "execution_count": 17,
   "source": [
    "print(datas.countries.isnull().sum())\r\n",
    "tentative = datas[\"countries\"].copy()\r\n",
    "print(tentative.isnull().sum())"
   ],
   "outputs": [
    {
     "output_type": "stream",
     "name": "stdout",
     "text": [
      "324\n",
      "324\n"
     ]
    }
   ],
   "metadata": {}
  },
  {
   "cell_type": "code",
   "execution_count": 18,
   "source": [
    "\r\n",
    "datas[\"brands\"] = datas[\"brands\"].fillna(\"Inconnu\")\r\n",
    "datas[\"countries\"] = datas[\"countries\"].fillna(\"Inconnu\")\r\n"
   ],
   "outputs": [],
   "metadata": {}
  },
  {
   "cell_type": "code",
   "execution_count": 19,
   "source": [
    "tentative.isnull().sum()"
   ],
   "outputs": [
    {
     "output_type": "execute_result",
     "data": {
      "text/plain": [
       "324"
      ]
     },
     "metadata": {},
     "execution_count": 19
    }
   ],
   "metadata": {}
  },
  {
   "cell_type": "code",
   "execution_count": 20,
   "source": [
    "\r\n",
    "# analyse préliminaire de origins\r\n",
    "import matplotlib.pyplot as plt\r\n",
    "\r\n",
    "length = len(datas.index)\r\n",
    "\r\n",
    "nb_null = datas[\"origins\"].isnull().sum()\r\n",
    "perc_null = round(nb_null / length * 100, 2)\r\n",
    "print(f\"{perc_null}% soit {nb_null} / {length} valeurs nulles pour la variable 'origins'\")\r\n",
    "\r\n",
    "tab_tmp = datas[\"origins\"]\r\n",
    "tab_tmp = tab_tmp.dropna().reset_index(drop=True)\r\n",
    "print(f\"Il y a {len(tab_tmp.unique())} valeurs uniques\")"
   ],
   "outputs": [
    {
     "output_type": "stream",
     "name": "stdout",
     "text": [
      "57.02% soit 65418 / 114720 valeurs nulles pour la variable 'origins'\n",
      "Il y a 8934 valeurs uniques\n"
     ]
    }
   ],
   "metadata": {}
  },
  {
   "cell_type": "markdown",
   "source": [
    "A première vue, je ne pense pas garder la variable \"origins\". En effet, l'analyse préliminaire ci-dessus indique qu'en moyenne chaque valeur unique de la variable sera utilisée plus de 7 fois pour combler les valeurs nulles\r\n",
    "\r\n",
    "J'ai quand même envie de transformer mes données en valeurs numériques à partir de ce que va me retourner .value_counts().\r\n",
    "\r\n",
    "Je pourrais calculer le nombre de classes et l'amplitude et en déduire le nombre de valeurs à l'intérieur qui seront le plus susceptibles d'être utilisées pour combler mes null. Je ferai aussi un histogramme pour avoir un visuel.\r\n",
    "\r\n",
    ".value_counts() permet de trier les valeurs par nombre d'apparitions, ce qui biaisera mes résultats mais me donnera les valeurs ayant le plus de chance d'être utilisées pour ma complétion. Ou alors je garde les valeurs distribuées de manière aléatoire pour un résultat posiblement plus proche de la réalité"
   ],
   "metadata": {}
  },
  {
   "cell_type": "code",
   "execution_count": 21,
   "source": [
    "# aperçu des valeurs aléatoires et mise en forme\r\n",
    "import numpy as np\r\n",
    "\r\n",
    "tab_tmp = pd.DataFrame(tab_tmp)\r\n",
    "\r\n",
    "unique_val = tab_tmp[\"origins\"].unique()\r\n",
    "unique_val_list = unique_val.tolist()\r\n",
    "tab_tmp[\"num_transf\"] = tab_tmp[\"origins\"].apply(lambda x: unique_val_list.index(x))"
   ],
   "outputs": [],
   "metadata": {}
  },
  {
   "cell_type": "code",
   "execution_count": 22,
   "source": [
    "from sklearn.preprocessing import LabelEncoder\r\n",
    "\r\n",
    "le = LabelEncoder()\r\n",
    "\r\n",
    "tab_tmp[\"encoded\"] = le.fit_transform(tab_tmp[\"origins\"])\r\n",
    "tab_tmp[[\"origins\", \"encoded\"]]\r\n"
   ],
   "outputs": [
    {
     "output_type": "execute_result",
     "data": {
      "text/plain": [
       "                              origins  encoded\n",
       "0                              France     2375\n",
       "1                              Québec     5373\n",
       "2                              Québec     5373\n",
       "3                              France     2375\n",
       "4                              Québec     5373\n",
       "...                               ...      ...\n",
       "49297                        lait cru     7951\n",
       "49298                          France     2375\n",
       "49299  cacahuètes enrobés et biscuits     7155\n",
       "49300                          France     2375\n",
       "49301                         Espagne     1889\n",
       "\n",
       "[49302 rows x 2 columns]"
      ],
      "text/html": [
       "<div>\n",
       "<style scoped>\n",
       "    .dataframe tbody tr th:only-of-type {\n",
       "        vertical-align: middle;\n",
       "    }\n",
       "\n",
       "    .dataframe tbody tr th {\n",
       "        vertical-align: top;\n",
       "    }\n",
       "\n",
       "    .dataframe thead th {\n",
       "        text-align: right;\n",
       "    }\n",
       "</style>\n",
       "<table border=\"1\" class=\"dataframe\">\n",
       "  <thead>\n",
       "    <tr style=\"text-align: right;\">\n",
       "      <th></th>\n",
       "      <th>origins</th>\n",
       "      <th>encoded</th>\n",
       "    </tr>\n",
       "  </thead>\n",
       "  <tbody>\n",
       "    <tr>\n",
       "      <th>0</th>\n",
       "      <td>France</td>\n",
       "      <td>2375</td>\n",
       "    </tr>\n",
       "    <tr>\n",
       "      <th>1</th>\n",
       "      <td>Québec</td>\n",
       "      <td>5373</td>\n",
       "    </tr>\n",
       "    <tr>\n",
       "      <th>2</th>\n",
       "      <td>Québec</td>\n",
       "      <td>5373</td>\n",
       "    </tr>\n",
       "    <tr>\n",
       "      <th>3</th>\n",
       "      <td>France</td>\n",
       "      <td>2375</td>\n",
       "    </tr>\n",
       "    <tr>\n",
       "      <th>4</th>\n",
       "      <td>Québec</td>\n",
       "      <td>5373</td>\n",
       "    </tr>\n",
       "    <tr>\n",
       "      <th>...</th>\n",
       "      <td>...</td>\n",
       "      <td>...</td>\n",
       "    </tr>\n",
       "    <tr>\n",
       "      <th>49297</th>\n",
       "      <td>lait cru</td>\n",
       "      <td>7951</td>\n",
       "    </tr>\n",
       "    <tr>\n",
       "      <th>49298</th>\n",
       "      <td>France</td>\n",
       "      <td>2375</td>\n",
       "    </tr>\n",
       "    <tr>\n",
       "      <th>49299</th>\n",
       "      <td>cacahuètes enrobés et biscuits</td>\n",
       "      <td>7155</td>\n",
       "    </tr>\n",
       "    <tr>\n",
       "      <th>49300</th>\n",
       "      <td>France</td>\n",
       "      <td>2375</td>\n",
       "    </tr>\n",
       "    <tr>\n",
       "      <th>49301</th>\n",
       "      <td>Espagne</td>\n",
       "      <td>1889</td>\n",
       "    </tr>\n",
       "  </tbody>\n",
       "</table>\n",
       "<p>49302 rows × 2 columns</p>\n",
       "</div>"
      ]
     },
     "metadata": {},
     "execution_count": 22
    }
   ],
   "metadata": {}
  },
  {
   "cell_type": "code",
   "execution_count": 23,
   "source": [
    "# analyse statistique des valeurs aléatoires\r\n",
    "import math\r\n",
    "import matplotlib.pyplot as plt\r\n",
    "\r\n",
    "colonne = \"encoded\" # \"num_transf\"\r\n",
    "\r\n",
    "nb_classes = round(1 + math.log2(len(tab_tmp)))\r\n",
    "print(\"Nombre de classe: \", nb_classes)\r\n",
    "ampl_classes = round((tab_tmp[colonne].max() - tab_tmp[colonne].min()) / nb_classes)\r\n",
    "print(f\"L'amplitude de classe est: {ampl_classes}\")\r\n",
    "\r\n",
    "bins = pd.cut(tab_tmp[colonne], nb_classes)\r\n",
    "mode = bins.mode()\r\n",
    "print(\"classe modale: \", mode[0])\r\n",
    "\r\n",
    "compte_classes = tab_tmp.groupby(bins)[colonne].agg(['count'])\r\n",
    "effectif_modal = compte_classes.loc[mode[0]][\"count\"]\r\n",
    "print(\"effectif de la classe modale=\", effectif_modal)\r\n",
    "\r\n",
    "tab_tmp[colonne].hist(bins=nb_classes, figsize=(10, 10))\r\n",
    "plt.show()\r\n",
    "\r\n",
    "qty_classes = 105\r\n",
    "print(f\"Histogramme affiné à {qty_classes} classes pour voir la répartition des éléments par lots d'environ 85\")\r\n",
    "bins = pd.cut(tab_tmp[colonne], qty_classes)\r\n",
    "\r\n",
    "compte_classes = tab_tmp.groupby(bins)[colonne].agg(['count'])\r\n",
    "for i in [100, 500, 1000]:\r\n",
    "    nb_inf =len([x for x in compte_classes[\"count\"] if x <= i])\r\n",
    "    percentage = round(nb_inf / qty_classes * 100, 3)\r\n",
    "    print(f\"{nb_inf} / {qty_classes} individus apparaissent moins de {i} fois\")\r\n",
    "    print(f\"Soit {percentage} %\")\r\n",
    "\r\n",
    "tab_tmp[colonne].hist(bins=qty_classes, figsize=(25, 25))\r\n",
    "plt.axhline(100, linestyle=\"--\" , color=\"r\" , label=f\"Limit: 100\")\r\n",
    "plt.axhline(500, linestyle=\"--\" , color=\"b\" , label=f\"Limit: 500\")\r\n",
    "plt.axhline(1000, linestyle=\"--\" , color=\"g\" , label=f\"Limit: 1000\")\r\n",
    "plt.legend()\r\n",
    "plt.show()\r\n"
   ],
   "outputs": [
    {
     "output_type": "stream",
     "name": "stdout",
     "text": [
      "Nombre de classe:  17\n",
      "L'amplitude de classe est: 525\n",
      "classe modale:  (2101.882, 2627.353]\n",
      "effectif de la classe modale= 12895\n"
     ]
    },
    {
     "output_type": "display_data",
     "data": {
      "text/plain": [
       "<Figure size 720x720 with 1 Axes>"
      ],
      "image/png": "[encoded data removed]"
     },
     "metadata": {
      "needs_background": "light"
     }
    },
    {
     "output_type": "stream",
     "name": "stdout",
     "text": [
      "Histogramme affiné à 105 classes pour voir la répartition des éléments par lots d'environ 85\n",
      "3 / 105 individus apparaissent moins de 100 fois\n",
      "Soit 2.857 %\n",
      "87 / 105 individus apparaissent moins de 500 fois\n",
      "Soit 82.857 %\n",
      "98 / 105 individus apparaissent moins de 1000 fois\n",
      "Soit 93.333 %\n"
     ]
    },
    {
     "output_type": "display_data",
     "data": {
      "text/plain": [
       "<Figure size 1800x1800 with 1 Axes>"
      ],
      "image/png": "[encoded data removed]"
     },
     "metadata": {
      "needs_background": "light"
     }
    }
   ],
   "metadata": {}
  },
  {
   "cell_type": "code",
   "execution_count": 24,
   "source": [
    "non_null = datas[\"origins\"].notna().sum()\r\n",
    "perc_val = effectif_modal / non_null * 100\r\n",
    "print(f\"{perc_val}% soit {effectif_modal} / {non_null} valeurs non nulles sont contenues dans {ampl_classes} entrées uniques\")\r\n",
    "dist_pot = round(perc_val * nb_null / 100)\r\n",
    "print(f\"Ces {ampl_classes} entrées rempliront potentiellement {dist_pot} / {nb_null} valeurs manquantes\")\r\n",
    "ratio = nb_null / ampl_classes\r\n",
    "print(f\"Ce qui nous amène à une moyenne de {ratio} apparition de chaque entrée lors de la complétion\")"
   ],
   "outputs": [
    {
     "output_type": "stream",
     "name": "stdout",
     "text": [
      "26.155125552715912% soit 12895 / 49302 valeurs non nulles sont contenues dans 525 entrées uniques\n",
      "Ces 525 entrées rempliront potentiellement 17110 / 65418 valeurs manquantes\n",
      "Ce qui nous amène à une moyenne de 124.60571428571428 apparition de chaque entrée lors de la complétion\n"
     ]
    }
   ],
   "metadata": {}
  },
  {
   "cell_type": "markdown",
   "source": [
    "D'après les résultats, j'en conclue que les nom les plus présents sont les 525 premiers de la liste unique_val\r\n",
    "\r\n",
    "C'est très peu pour avoir une complétion cohérente à mes yeux"
   ],
   "metadata": {}
  },
  {
   "cell_type": "code",
   "execution_count": 25,
   "source": [
    "# analyse statistique des valeurs retrounées par .value_counts()\r\n",
    "effectifs = tab_tmp[\"origins\"].value_counts()\r\n",
    "tab_tmp2 = pd.DataFrame(effectifs).reset_index()\r\n",
    "colonne2 = \"origins\"\r\n",
    "\r\n",
    "nb_classes2 = round(1 + math.log2(len(tab_tmp2)))\r\n",
    "print(\"Nombre de classe: \", nb_classes2)\r\n",
    "ampl_classes2 = round((tab_tmp2[colonne2].max() - tab_tmp2[colonne2].min()) / nb_classes2)\r\n",
    "print(f\"L'amplitude de classe est: {ampl_classes2}\")\r\n",
    "\r\n",
    "bins2 = pd.cut(tab_tmp2[colonne2], nb_classes2)\r\n",
    "mode2 = bins2.mode()\r\n",
    "print(\"classe modale: \", mode2[0])\r\n",
    "\r\n",
    "compte_classes2 = tab_tmp2.groupby(bins2)[colonne2].agg(['count'])\r\n",
    "print(f\"Effectif par classe:\\n{compte_classes2}\")\r\n",
    "effectif_modal2 = compte_classes2.loc[mode2[0]][\"count\"]\r\n",
    "print(\"effectif de la classe modale=\", effectif_modal2)\r\n",
    "\r\n",
    "tab_tmp2.hist(bins=nb_classes2, figsize=(10, 10))\r\n",
    "plt.show()\r\n",
    "\r\n",
    "print(f\"Histogramme affiné à 166 classes pour voir la répartition de l'apparition des éléments par pas de 5\")\r\n",
    "tab_tmp2.hist(bins=166, figsize=(10, 10))\r\n",
    "plt.show()\r\n"
   ],
   "outputs": [
    {
     "output_type": "stream",
     "name": "stdout",
     "text": [
      "Nombre de classe:  14\n",
      "L'amplitude de classe est: 828\n",
      "classe modale:  (-10.585, 828.5]\n",
      "Effectif par classe:\n",
      "                    count\n",
      "origins                  \n",
      "(-10.585, 828.5]     8930\n",
      "(828.5, 1656.0]         2\n",
      "(1656.0, 2483.5]        1\n",
      "(2483.5, 3311.0]        0\n",
      "(3311.0, 4138.5]        0\n",
      "(4138.5, 4966.0]        0\n",
      "(4966.0, 5793.5]        0\n",
      "(5793.5, 6621.0]        0\n",
      "(6621.0, 7448.5]        0\n",
      "(7448.5, 8276.0]        0\n",
      "(8276.0, 9103.5]        0\n",
      "(9103.5, 9931.0]        0\n",
      "(9931.0, 10758.5]       0\n",
      "(10758.5, 11586.0]      1\n",
      "effectif de la classe modale= 8930\n"
     ]
    },
    {
     "output_type": "display_data",
     "data": {
      "text/plain": [
       "<Figure size 720x720 with 1 Axes>"
      ],
      "image/png": "[encoded data removed]"
     },
     "metadata": {
      "needs_background": "light"
     }
    },
    {
     "output_type": "stream",
     "name": "stdout",
     "text": [
      "Histogramme affiné à 166 classes pour voir la répartition de l'apparition des éléments par pas de 5\n"
     ]
    },
    {
     "output_type": "display_data",
     "data": {
      "text/plain": [
       "<Figure size 720x720 with 1 Axes>"
      ],
      "image/png": "[encoded data removed]"
     },
     "metadata": {
      "needs_background": "light"
     }
    }
   ],
   "metadata": {}
  },
  {
   "cell_type": "markdown",
   "source": [
    "Pour cette deuxième analyse, je vois que 8930/8934 éléments uniques apparaissent entre 0 et 828 fois"
   ],
   "metadata": {}
  },
  {
   "cell_type": "markdown",
   "source": [
    "Je vais effectuer un test chi2 entre mes variables \"brands\", \"manufacturing_places,\"countries\" et \"origines\" pour voir les corrélations et éventuellement déterminer un algo de ML pour compléter \"origines\""
   ],
   "metadata": {}
  },
  {
   "cell_type": "code",
   "execution_count": 26,
   "source": [
    "\r\n",
    "def test_chi2(datas, cols, cible):\r\n",
    "    import scipy.stats as st\r\n",
    "    \r\n",
    "    for col in cols:\r\n",
    "        cont = datas[[col,cible]].pivot_table(index=col, columns=cible ,aggfunc=len ,margins=True ,margins_name=\"Total\")\r\n",
    "        c = cont.fillna(0)\r\n",
    "        \r\n",
    "        print(f\"Test Chi2 entre {col} et {cible}:\")\r\n",
    "        st_chi2, st_p, st_dof, st_exp = st.chi2_contingency(c.iloc[:-1,:-1])\r\n",
    "        critical = st.chi2.ppf(0.95, st_dof)\r\n",
    "        if np.abs(st_chi2) >= critical:\r\n",
    "            print(f\"Dépendante (Rejete H0); Khi2: {st_chi2} >= {critical} :critical\")\r\n",
    "        else:\r\n",
    "            print(f\"Indépendante (H0 OK); Khi2: {st_chi2} < {critical} :critical\")\r\n",
    "        alpha = 0.05\r\n",
    "        if st_p <= alpha:\r\n",
    "            print(f\"Dépendante (Rejete H0); P-value: {st_p} <= {alpha} :alpha\")\r\n",
    "        else:\r\n",
    "            print(f\"Indépendante (H0 OK); P-value: {st_p} > {alpha} :alpha\")\r\n",
    "        print(\"\\n\")\r\n"
   ],
   "outputs": [],
   "metadata": {}
  },
  {
   "cell_type": "code",
   "execution_count": 27,
   "source": [
    "\r\n",
    "import gc\r\n",
    "from dask.distributed import Client\r\n",
    "import joblib\r\n",
    "\r\n",
    "client = Client(memory_limit=\"4GB\", processes=False, n_workers=2, threads_per_worker=4, silence_logs=\"error\")\r\n",
    "# client.run(gc.collect)\r\n",
    "\r\n",
    "cols = [\"brands\", \"manufacturing_places\", \"countries\"]\r\n",
    "\r\n",
    "with joblib.parallel_backend(\"dask\"):\r\n",
    "    test_chi2(datas, cols, \"origins\")\r\n"
   ],
   "outputs": [
    {
     "output_type": "stream",
     "name": "stdout",
     "text": [
      "Test Chi2 entre brands et origins:\n",
      "Dépendante (Rejete H0); Khi2: 229205940.0375696 >= 193190589.63012585 :critical\n",
      "Dépendante (Rejete H0); P-value: 0.0 <= 0.05 :alpha\n",
      "\n",
      "\n",
      "Test Chi2 entre manufacturing_places et origins:\n",
      "Dépendante (Rejete H0); Khi2: 207070212.56176704 >= 124471573.82062656 :critical\n",
      "Dépendante (Rejete H0); P-value: 0.0 <= 0.05 :alpha\n",
      "\n",
      "\n",
      "Test Chi2 entre countries et origins:\n",
      "Dépendante (Rejete H0); Khi2: 33698458.52561387 >= 22799188.563849024 :critical\n",
      "Dépendante (Rejete H0); P-value: 0.0 <= 0.05 :alpha\n",
      "\n",
      "\n"
     ]
    }
   ],
   "metadata": {}
  },
  {
   "cell_type": "markdown",
   "source": [
    "Les variables sont bien corrélée avec origins\r\n",
    "\r\n",
    "Je vais effectuer un KNN Classifier pour combler les valeur de origins"
   ],
   "metadata": {}
  },
  {
   "cell_type": "code",
   "execution_count": 40,
   "source": [
    "tentative.isnull().sum()\r\n",
    "df_KNN"
   ],
   "outputs": [
    {
     "output_type": "execute_result",
     "data": {
      "text/plain": [
       "         brands  manufacturing_places  countries  origins\n",
       "0       11034.0               22867.0     4307.0      NaN\n",
       "1       23966.0                8561.0     1755.0      NaN\n",
       "2        6993.0                8561.0     1755.0   2375.0\n",
       "3       16225.0                4754.0     1211.0   5373.0\n",
       "4       16225.0                4754.0     1211.0   5373.0\n",
       "...         ...                   ...        ...      ...\n",
       "114715  38298.0               24812.0     1755.0      NaN\n",
       "114716  27040.0                2648.0     4307.0   1889.0\n",
       "114717  39744.0               23358.0     1755.0      NaN\n",
       "114718  38787.0               11358.0     1755.0      NaN\n",
       "114719   7406.0               14458.0     1482.0      NaN\n",
       "\n",
       "[114720 rows x 4 columns]"
      ],
      "text/html": [
       "<div>\n",
       "<style scoped>\n",
       "    .dataframe tbody tr th:only-of-type {\n",
       "        vertical-align: middle;\n",
       "    }\n",
       "\n",
       "    .dataframe tbody tr th {\n",
       "        vertical-align: top;\n",
       "    }\n",
       "\n",
       "    .dataframe thead th {\n",
       "        text-align: right;\n",
       "    }\n",
       "</style>\n",
       "<table border=\"1\" class=\"dataframe\">\n",
       "  <thead>\n",
       "    <tr style=\"text-align: right;\">\n",
       "      <th></th>\n",
       "      <th>brands</th>\n",
       "      <th>manufacturing_places</th>\n",
       "      <th>countries</th>\n",
       "      <th>origins</th>\n",
       "    </tr>\n",
       "  </thead>\n",
       "  <tbody>\n",
       "    <tr>\n",
       "      <th>0</th>\n",
       "      <td>11034.0</td>\n",
       "      <td>22867.0</td>\n",
       "      <td>4307.0</td>\n",
       "      <td>NaN</td>\n",
       "    </tr>\n",
       "    <tr>\n",
       "      <th>1</th>\n",
       "      <td>23966.0</td>\n",
       "      <td>8561.0</td>\n",
       "      <td>1755.0</td>\n",
       "      <td>NaN</td>\n",
       "    </tr>\n",
       "    <tr>\n",
       "      <th>2</th>\n",
       "      <td>6993.0</td>\n",
       "      <td>8561.0</td>\n",
       "      <td>1755.0</td>\n",
       "      <td>2375.0</td>\n",
       "    </tr>\n",
       "    <tr>\n",
       "      <th>3</th>\n",
       "      <td>16225.0</td>\n",
       "      <td>4754.0</td>\n",
       "      <td>1211.0</td>\n",
       "      <td>5373.0</td>\n",
       "    </tr>\n",
       "    <tr>\n",
       "      <th>4</th>\n",
       "      <td>16225.0</td>\n",
       "      <td>4754.0</td>\n",
       "      <td>1211.0</td>\n",
       "      <td>5373.0</td>\n",
       "    </tr>\n",
       "    <tr>\n",
       "      <th>...</th>\n",
       "      <td>...</td>\n",
       "      <td>...</td>\n",
       "      <td>...</td>\n",
       "      <td>...</td>\n",
       "    </tr>\n",
       "    <tr>\n",
       "      <th>114715</th>\n",
       "      <td>38298.0</td>\n",
       "      <td>24812.0</td>\n",
       "      <td>1755.0</td>\n",
       "      <td>NaN</td>\n",
       "    </tr>\n",
       "    <tr>\n",
       "      <th>114716</th>\n",
       "      <td>27040.0</td>\n",
       "      <td>2648.0</td>\n",
       "      <td>4307.0</td>\n",
       "      <td>1889.0</td>\n",
       "    </tr>\n",
       "    <tr>\n",
       "      <th>114717</th>\n",
       "      <td>39744.0</td>\n",
       "      <td>23358.0</td>\n",
       "      <td>1755.0</td>\n",
       "      <td>NaN</td>\n",
       "    </tr>\n",
       "    <tr>\n",
       "      <th>114718</th>\n",
       "      <td>38787.0</td>\n",
       "      <td>11358.0</td>\n",
       "      <td>1755.0</td>\n",
       "      <td>NaN</td>\n",
       "    </tr>\n",
       "    <tr>\n",
       "      <th>114719</th>\n",
       "      <td>7406.0</td>\n",
       "      <td>14458.0</td>\n",
       "      <td>1482.0</td>\n",
       "      <td>NaN</td>\n",
       "    </tr>\n",
       "  </tbody>\n",
       "</table>\n",
       "<p>114720 rows × 4 columns</p>\n",
       "</div>"
      ]
     },
     "metadata": {},
     "execution_count": 40
    }
   ],
   "metadata": {}
  },
  {
   "cell_type": "code",
   "execution_count": 42,
   "source": [
    "\r\n",
    "from sklearn.preprocessing import LabelEncoder, OrdinalEncoder\r\n",
    "\r\n",
    "datas_KNN = datas[[\"brands\", \"manufacturing_places\", \"countries\", \"origins\"]]\r\n",
    "datas_other = datas[[x for x in datas.columns if x not in [\"brands\", \"manufacturing_places\", \"countries\", \"origins\"]]]\r\n",
    "\r\n",
    "# le = LabelEncoder()\r\n",
    "enc = OrdinalEncoder()\r\n",
    "with joblib.parallel_backend(\"dask\"):\r\n",
    "    # df_KNN = datas_KNN.apply(lambda series:\r\n",
    "    #     pd.Series(le.fit_transform(series[series.notnull()]),\r\n",
    "    #     index=series[series.notnull()].index))\r\n",
    "    tmp_datas = datas_KNN\r\n",
    "    pos = tmp_datas.index[tmp_datas[\"origins\"].isnull()]\r\n",
    "    pos_t = tentative.index[tentative.isnull()]\r\n",
    "    # tentative.index[tentative.isnull() == True]\r\n",
    "    # print(pos_t)\r\n",
    "    # tmp_datas[\"origins\"] = tmp_datas[\"origins\"].mask(tmp_datas.origins.isnull()).factorize()[0]\r\n",
    "    tmp_datas.loc[tmp_datas.origins.isnull(), \"origins\"] = \"azerty\"\r\n",
    "\r\n",
    "    df_KNN = pd.DataFrame(enc.fit_transform(tmp_datas), \r\n",
    "        columns=[\"brands\", \"manufacturing_places\", \"countries\", \"origins\"])\r\n",
    "    df_KNN.loc[df_KNN[\"origins\"] == df_KNN.loc[pos[0], \"origins\"], \"origins\"] = np.nan\r\n",
    "\r\n",
    "\r\n",
    "X_KNN = df_KNN[df_KNN[\"origins\"].notnull() == True]\r\n",
    "Y_KNN = df_KNN[df_KNN[\"origins\"].isnull() == True]\r\n",
    "\r\n",
    "df_KNN[df_KNN[[\"brands\", \"manufacturing_places\", \"countries\", \"origins\"]].values < 0]\r\n"
   ],
   "outputs": [
    {
     "output_type": "stream",
     "name": "stderr",
     "text": [
      "C:\\Users\\nanar\\AppData\\Local\\Programs\\Python\\Python39\\lib\\site-packages\\pandas\\core\\indexing.py:1732: SettingWithCopyWarning: \n",
      "A value is trying to be set on a copy of a slice from a DataFrame\n",
      "\n",
      "See the caveats in the documentation: https://pandas.pydata.org/pandas-docs/stable/user_guide/indexing.html#returning-a-view-versus-a-copy\n",
      "  self._setitem_single_block(indexer, value, name)\n",
      "C:\\Users\\nanar\\AppData\\Local\\Programs\\Python\\Python39\\lib\\site-packages\\pandas\\core\\indexing.py:723: SettingWithCopyWarning: \n",
      "A value is trying to be set on a copy of a slice from a DataFrame\n",
      "\n",
      "See the caveats in the documentation: https://pandas.pydata.org/pandas-docs/stable/user_guide/indexing.html#returning-a-view-versus-a-copy\n",
      "  iloc._setitem_with_indexer(indexer, value, self.name)\n"
     ]
    },
    {
     "output_type": "execute_result",
     "data": {
      "text/plain": [
       "Empty DataFrame\n",
       "Columns: [brands, manufacturing_places, countries, origins]\n",
       "Index: []"
      ],
      "text/html": [
       "<div>\n",
       "<style scoped>\n",
       "    .dataframe tbody tr th:only-of-type {\n",
       "        vertical-align: middle;\n",
       "    }\n",
       "\n",
       "    .dataframe tbody tr th {\n",
       "        vertical-align: top;\n",
       "    }\n",
       "\n",
       "    .dataframe thead th {\n",
       "        text-align: right;\n",
       "    }\n",
       "</style>\n",
       "<table border=\"1\" class=\"dataframe\">\n",
       "  <thead>\n",
       "    <tr style=\"text-align: right;\">\n",
       "      <th></th>\n",
       "      <th>brands</th>\n",
       "      <th>manufacturing_places</th>\n",
       "      <th>countries</th>\n",
       "      <th>origins</th>\n",
       "    </tr>\n",
       "  </thead>\n",
       "  <tbody>\n",
       "  </tbody>\n",
       "</table>\n",
       "</div>"
      ]
     },
     "metadata": {},
     "execution_count": 42
    }
   ],
   "metadata": {}
  },
  {
   "cell_type": "code",
   "execution_count": 30,
   "source": [
    "import prince\r\n",
    "\r\n",
    "X = df_KNN[df_KNN[\"origins\"].isnull() == False]\r\n",
    "\r\n",
    "pca = prince.PCA(n_components=6, rescale_with_std=True, rescale_with_mean=True, copy=True, engine=\"auto\", random_state=42)\r\n",
    "pca = pca.fit(X)\r\n",
    "pca.transform(X)\r\n",
    "\r\n",
    "inertia = pca.explained_inertia_\r\n",
    "plt.bar([x for x in range(len(inertia))], inertia)\r\n",
    "plt.show()\r\n",
    "\r\n",
    "correl = pca.column_correlations(X)\r\n",
    "\r\n",
    "fig, ax = plt.subplots(figsize=(10,10))\r\n",
    "plt.quiver(np.zeros(correl.shape[0]), np.zeros(correl.shape[0]), correl[0], correl[1], angles='xy', scale_units='xy', scale=1,)\r\n",
    "for i, nom in enumerate(correl.index):\r\n",
    "    plt.text(correl.iloc[i,0], correl.iloc[i,1], nom)\r\n",
    "circle = plt.Circle((0,0), 1, facecolor='none', edgecolor='b')\r\n",
    "plt.gca().add_artist(circle)\r\n",
    "plt.xlim(-1,1)\r\n",
    "plt.ylim(-1,1)\r\n",
    "\r\n",
    "plt.show()\r\n"
   ],
   "outputs": [
    {
     "output_type": "display_data",
     "data": {
      "text/plain": [
       "<Figure size 432x288 with 1 Axes>"
      ],
      "image/png": "[encoded data removed]"
     },
     "metadata": {
      "needs_background": "light"
     }
    },
    {
     "output_type": "display_data",
     "data": {
      "text/plain": [
       "<Figure size 720x720 with 1 Axes>"
      ],
      "image/png": "[encoded data removed]"
     },
     "metadata": {
      "needs_background": "light"
     }
    }
   ],
   "metadata": {}
  },
  {
   "cell_type": "code",
   "execution_count": 31,
   "source": [
    "correl[0]"
   ],
   "outputs": [
    {
     "output_type": "execute_result",
     "data": {
      "text/plain": [
       "brands                  0.325142\n",
       "countries               0.677131\n",
       "manufacturing_places    0.752194\n",
       "origins                 0.714603\n",
       "Name: 0, dtype: float64"
      ]
     },
     "metadata": {},
     "execution_count": 31
    }
   ],
   "metadata": {}
  },
  {
   "cell_type": "code",
   "execution_count": 43,
   "source": [
    "from sklearn.model_selection import train_test_split\r\n",
    "from sklearn.preprocessing import StandardScaler\r\n",
    "\r\n",
    "cible = \"origins\"\r\n",
    "colonnes = [\"manufacturing_places\", \"countries\"]\r\n",
    "\r\n",
    "# X_scal = pd.DataFrame(StandardScaler().fit_transform(X_KNN), columns=X_KNN.columns)\r\n",
    "# xtrain, xtest, ytrain, ytest = train_test_split(X_scal[colonnes], X_scal[cible], train_size=0.8)\r\n",
    "\r\n",
    "xtrain, xtest, ytrain, ytest = train_test_split(X_KNN[colonnes], X_KNN[cible], train_size=0.8)"
   ],
   "outputs": [],
   "metadata": {}
  },
  {
   "cell_type": "code",
   "execution_count": 49,
   "source": [
    "from sklearn.metrics import mean_squared_error, mean_squared_log_error\r\n",
    "\r\n",
    "rmse = lambda y, yhat: np.sqrt(mean_squared_error(y, yhat))\r\n",
    "rmsle = lambda y, yhat: np.sqrt(mean_squared_log_error(y, yhat))"
   ],
   "outputs": [],
   "metadata": {}
  },
  {
   "cell_type": "code",
   "execution_count": 50,
   "source": [
    "from sklearn import neighbors\r\n",
    "\r\n",
    "with joblib.parallel_backend(\"dask\"):\r\n",
    "    errors = []\r\n",
    "    r2 = []\r\n",
    "    r3 = []\r\n",
    "    for k in range(2,50):\r\n",
    "        knn = neighbors.KNeighborsRegressor(k)\r\n",
    "        knn.fit(xtrain, ytrain)\r\n",
    "        pred = knn.predict(xtest)\r\n",
    "\r\n",
    "        errors.append(100*(1 - knn.score(xtest, ytest)))\r\n",
    "        \r\n",
    "        r2.append(rmse(ytest, pred))\r\n",
    "        r3.append(rmsle(ytest, pred))\r\n",
    "\r\n",
    "    k = errors.index(min(errors)) +2\r\n",
    "    print(f\"R2: le nombre de neighbors optimal est {k} à {min(errors)}%\")\r\n",
    "    plt.plot(range(2,50), errors, 'o-')\r\n",
    "    plt.show()\r\n",
    "\r\n",
    "    k = r2.index(min(r2)) +2\r\n",
    "    print(f\"RMSE: le nombre de neighbors optimal est {k} à {min(r2)}%\")\r\n",
    "    plt.plot(range(2,50), r2, 'o-')\r\n",
    "    plt.show()\r\n",
    "\r\n",
    "    k = r3.index(min(r3)) +2\r\n",
    "    print(f\"RMSLE: le nombre de neighbors optimal est {k} à {min(r3)}%\")\r\n",
    "    plt.plot(range(2,50), r3, 'o-')\r\n",
    "    plt.show()\r\n"
   ],
   "outputs": [
    {
     "output_type": "stream",
     "name": "stdout",
     "text": [
      "R2: le nombre de neighbors optimal est 35 à 76.95628762029655%\n"
     ]
    },
    {
     "output_type": "display_data",
     "data": {
      "text/plain": [
       "<Figure size 432x288 with 1 Axes>"
      ],
      "image/png": "[encoded data removed]"
     },
     "metadata": {
      "needs_background": "light"
     }
    },
    {
     "output_type": "stream",
     "name": "stdout",
     "text": [
      "RMSE: le nombre de neighbors optimal est 35 à 1881.1882815222023%\n"
     ]
    },
    {
     "output_type": "display_data",
     "data": {
      "text/plain": [
       "<Figure size 432x288 with 1 Axes>"
      ],
      "image/png": "[encoded data removed]"
     },
     "metadata": {
      "needs_background": "light"
     }
    },
    {
     "output_type": "stream",
     "name": "stdout",
     "text": [
      "RMSLE: le nombre de neighbors optimal est 8 à 0.717481009016421%\n"
     ]
    },
    {
     "output_type": "display_data",
     "data": {
      "text/plain": [
       "<Figure size 432x288 with 1 Axes>"
      ],
      "image/png": "[encoded data removed]"
     },
     "metadata": {
      "needs_background": "light"
     }
    }
   ],
   "metadata": {}
  },
  {
   "cell_type": "markdown",
   "source": [
    "Le score du meilleur KNN est d'environ 5% plus bas avec un encodage des données par OrdinalEncoder par rapport à un encodage avec LabelEncoder"
   ],
   "metadata": {}
  },
  {
   "cell_type": "code",
   "execution_count": 51,
   "source": [
    "\r\n",
    "from sklearn.ensemble import RandomForestRegressor\r\n",
    "from sklearn.ensemble import RandomForestClassifier\r\n",
    "\r\n",
    "# To use the experimental IterativeImputer, we need to explicitly ask for it:\r\n",
    "from sklearn.experimental import enable_iterative_imputer  # noqa\r\n",
    "from sklearn.impute import SimpleImputer, KNNImputer, IterativeImputer\r\n",
    "from sklearn.model_selection import cross_val_score\r\n",
    "from sklearn.pipeline import make_pipeline\r\n",
    "from sklearn.ensemble import ExtraTreesRegressor\r\n",
    "from sklearn.preprocessing import StandardScaler\r\n",
    "from sklearn.linear_model import LinearRegression, BayesianRidge\r\n",
    "\r\n",
    "N_SPLITS = 5\r\n",
    "regressor = RandomForestRegressor(random_state=0)\r\n",
    "\r\n",
    "def get_scores_for_imputer(imputer, X_missing, y_missing):\r\n",
    "    estimator = make_pipeline(imputer, regressor)\r\n",
    "    print(\"Starting cross validation\")\r\n",
    "    impute_scores = cross_val_score(estimator, X_missing, y_missing,\r\n",
    "                                    scoring= \"r2\", # \"r2\", # 'neg_mean_squared_error',\r\n",
    "                                    cv=N_SPLITS)\r\n",
    "    print(f\"impute scores : {impute_scores}\")\r\n",
    "    return impute_scores\r\n",
    "\r\n",
    "def get_impute_knn_score(X_missing, y_missing):\r\n",
    "    imputer = KNNImputer(missing_values=np.nan, add_indicator=True)\r\n",
    "    knn_impute_scores = get_scores_for_imputer(imputer, X_missing, y_missing)\r\n",
    "    return knn_impute_scores.mean(), knn_impute_scores.std()\r\n",
    "\r\n",
    "def get_impute_iterative(X_missing, y_missing):\r\n",
    "    imputer = IterativeImputer(missing_values=np.nan, add_indicator=True,\r\n",
    "                               random_state=0, n_nearest_features=5,\r\n",
    "                               sample_posterior=True)\r\n",
    "    iterative_impute_scores = get_scores_for_imputer(imputer,\r\n",
    "                                                     X_missing,\r\n",
    "                                                     y_missing)\r\n",
    "    return iterative_impute_scores.mean(), iterative_impute_scores.std()"
   ],
   "outputs": [],
   "metadata": {}
  },
  {
   "cell_type": "code",
   "execution_count": 54,
   "source": [
    "\r\n",
    "a= [\"origins\", \"countries\"]\r\n",
    "b= \"manufacturing_places\"\r\n",
    "\r\n",
    "samples = np.random.choice(len(df_KNN), int(len(df_KNN)*0.2), replace=False)\r\n",
    "X_sc = df_KNN.loc[samples, a].values\r\n",
    "Y_sc = df_KNN.loc[samples, b].values\r\n",
    "\r\n",
    "# print(X_sc, \"\\n\", Y_sc)\r\n",
    "countries_tmp = pd.DataFrame(df_KNN[\"countries\"])\r\n",
    "countries_tmp.loc[df_KNN[\"countries\"] == df_KNN.loc[pos_t[0], \"countries\"], \"countries\"] = np.nan\r\n",
    "datas_test = df_KNN.loc[samples, [\"origins\", \"manufacturing_places\"]]\r\n",
    "datas_test[\"countries\"] = countries_tmp.iloc[samples]\r\n",
    "# datas_test[datas_test.countries.isnull()]\r\n"
   ],
   "outputs": [],
   "metadata": {}
  },
  {
   "cell_type": "code",
   "execution_count": 58,
   "source": [
    "\r\n",
    "with joblib.parallel_backend(\"dask\"):\r\n",
    "    # moy, ect = get_impute_knn_score(X_sc, Y_sc)\r\n",
    "    # print(f\"KNNImputer\\nScore : {moy}\\nStd : {ect}\")\r\n",
    "    n_neighb = 0\r\n",
    "    weight = \"\"\r\n",
    "    boolean = True\r\n",
    "    max_r2_KNN = 0\r\n",
    "    KNN_cols = datas_test.columns.to_list()\r\n",
    "    KNN_cols.append(\"indicator_origins\")\r\n",
    "    KNN_cols.append(\"indicator_countries\")\r\n",
    "    print(KNN_cols)\r\n",
    "    \r\n",
    "    for w in [\"uniform\", \"distance\"]:\r\n",
    "        r2 = []\r\n",
    "        errors = []\r\n",
    "        r3 = []\r\n",
    "        print(f\"KNNImputer, weight => {w}\")\r\n",
    "        for k in range(2, 52):\r\n",
    "            imp = KNNImputer(n_neighbors=k, weights=w, missing_values=np.nan, add_indicator=True)\r\n",
    "\r\n",
    "            # print(\"Start imputation\")\r\n",
    "            \r\n",
    "            result_datas = pd.DataFrame(np.round(imp.fit_transform(datas_test)), columns=KNN_cols)\r\n",
    "            # X = result_datas.drop(\"manufacturing_places\", axis=1)\r\n",
    "            # Y = result_datas[\"manufacturing_places\"]\r\n",
    "\r\n",
    "            # X_scaled = pd.DataFrame(StandardScaler().fit_transform(X), columns=X.columns)\r\n",
    "\r\n",
    "            # X_scaled = pd.DataFrame(StandardScaler().fit_transform(result_datas), columns=result_datas.columns)\r\n",
    "            X_scaled = pd.DataFrame(result_datas, columns=result_datas.columns)\r\n",
    "            X = X_scaled.drop(\"manufacturing_places\", axis=1)\r\n",
    "            Y = X_scaled[\"manufacturing_places\"]\r\n",
    "            X_train, X_test, y_train, y_test = train_test_split(X, Y, test_size=0.5, random_state=42)\r\n",
    "            # X_train, X_test, y_train, y_test = train_test_split(X_scaled, Y, test_size=0.5, random_state=42)\r\n",
    "\r\n",
    "            lr = LinearRegression().fit(X_train, y_train)\r\n",
    "            pred = lr.predict(X_test)\r\n",
    "            \r\n",
    "            r2.append(rmse(y_test, pred))\r\n",
    "            errors.append(100*(1 - lr.score(X_test, y_test)))\r\n",
    "            r3.append(rmsle(y_test, pred))\r\n",
    "\r\n",
    "        k = errors.index(min(errors)) +2\r\n",
    "        print(f\"R2: le nombre de neighbors optimal est {k} à {min(errors)}%\")\r\n",
    "        plt.plot(range(2,52), errors, 'o-')\r\n",
    "        plt.show()\r\n",
    "\r\n",
    "        k = r2.index(min(r2)) +2\r\n",
    "        print(f\"RMSE: le nombre de neighbors optimal est {k} à %{min(r2)}\")\r\n",
    "        plt.plot(range(2,52), r2, 'o-')\r\n",
    "        plt.show()\r\n",
    "\r\n",
    "        k = r3.index(min(r3)) +2\r\n",
    "        print(f\"RMSLE: le nombre de neighbors optimal est {k} à %{min(r3)}\")\r\n",
    "        plt.plot(range(2,52), r3, 'o-')\r\n",
    "        plt.show()\r\n",
    "\r\n",
    "        if boolean:\r\n",
    "            n_neighb = k\r\n",
    "            weight = w\r\n",
    "            boolean = False\r\n",
    "            max_r2_KNN = min(r2)\r\n",
    "        else:\r\n",
    "            if max_r2_KNN > min(r2):\r\n",
    "                n_neighb = k\r\n",
    "                weight = w\r\n",
    "                max_r2_KNN = max(r2)\r\n"
   ],
   "outputs": [
    {
     "output_type": "stream",
     "name": "stdout",
     "text": [
      "['origins', 'manufacturing_places', 'countries', 'indicator_origins', 'indicator_countries']\n",
      "KNNImputer, weight => uniform\n",
      "R2: le nombre de neighbors optimal est 24 à 76.31074122747535%\n"
     ]
    },
    {
     "output_type": "display_data",
     "data": {
      "text/plain": [
       "<Figure size 432x288 with 1 Axes>"
      ],
      "image/png": "[encoded data removed]"
     },
     "metadata": {
      "needs_background": "light"
     }
    },
    {
     "output_type": "stream",
     "name": "stdout",
     "text": [
      "RMSE: le nombre de neighbors optimal est 24 à %5560.546035852783\n"
     ]
    },
    {
     "output_type": "display_data",
     "data": {
      "text/plain": [
       "<Figure size 432x288 with 1 Axes>"
      ],
      "image/png": "[encoded data removed]"
     },
     "metadata": {
      "needs_background": "light"
     }
    },
    {
     "output_type": "stream",
     "name": "stdout",
     "text": [
      "RMSLE: le nombre de neighbors optimal est 9 à %0.6595098003354657\n"
     ]
    },
    {
     "output_type": "display_data",
     "data": {
      "text/plain": [
       "<Figure size 432x288 with 1 Axes>"
      ],
      "image/png": "[encoded data removed]"
     },
     "metadata": {
      "needs_background": "light"
     }
    },
    {
     "output_type": "stream",
     "name": "stdout",
     "text": [
      "KNNImputer, weight => distance\n",
      "R2: le nombre de neighbors optimal est 24 à 76.97086273277904%\n"
     ]
    },
    {
     "output_type": "display_data",
     "data": {
      "text/plain": [
       "<Figure size 432x288 with 1 Axes>"
      ],
      "image/png": "[encoded data removed]"
     },
     "metadata": {
      "needs_background": "light"
     }
    },
    {
     "output_type": "stream",
     "name": "stdout",
     "text": [
      "RMSE: le nombre de neighbors optimal est 24 à %5584.544833112305\n"
     ]
    },
    {
     "output_type": "display_data",
     "data": {
      "text/plain": [
       "<Figure size 432x288 with 1 Axes>"
      ],
      "image/png": "[encoded data removed]"
     },
     "metadata": {
      "needs_background": "light"
     }
    },
    {
     "output_type": "stream",
     "name": "stdout",
     "text": [
      "RMSLE: le nombre de neighbors optimal est 24 à %0.6598956971086701\n"
     ]
    },
    {
     "output_type": "display_data",
     "data": {
      "text/plain": [
       "<Figure size 432x288 with 1 Axes>"
      ],
      "image/png": "[encoded data removed]"
     },
     "metadata": {
      "needs_background": "light"
     }
    }
   ],
   "metadata": {}
  },
  {
   "cell_type": "code",
   "execution_count": 59,
   "source": [
    "\r\n",
    "print(f\"KNNImputer results:\\nBest neighbors: {n_neighb}\\nWeights: {weight}\\nScore (RMSE): {max_r2_KNN}\")"
   ],
   "outputs": [
    {
     "output_type": "stream",
     "name": "stdout",
     "text": [
      "KNNImputer results:\n",
      "Best neighbors: 9\n",
      "Weights: uniform\n",
      "Score (RMSE): 5560.546035852783\n"
     ]
    }
   ],
   "metadata": {}
  },
  {
   "cell_type": "code",
   "execution_count": 60,
   "source": [
    "\r\n",
    "with joblib.parallel_backend(\"dask\"):\r\n",
    "    # moy, ect = get_impute_knn_score(X_sc, Y_sc)\r\n",
    "    # print(f\"KNNImputer\\nScore : {moy}\\nStd : {ect}\")\r\n",
    "    n_nearest = 0\r\n",
    "    estimator = \"\"\r\n",
    "    boolean = True\r\n",
    "    max_r2_Iter = 0\r\n",
    "    # KNN_cols = datas_test.columns.to_list()\r\n",
    "    # KNN_cols.append(\"indicator\")\r\n",
    "\r\n",
    "    # dict_estimator = {\"BayesianRidge\": BayesianRidge(), \"ExtraTreesRegressor\": ExtraTreesRegressor()}\r\n",
    "\r\n",
    "    # for name, estim in dict_estimator.items():\r\n",
    "    r2 = []\r\n",
    "    errors = []\r\n",
    "    r3 = []\r\n",
    "    # print(f\"IterativeImputer, estimator => {name}\")\r\n",
    "    for k in range(2, 27):\r\n",
    "        imp = IterativeImputer(missing_values=np.nan, add_indicator=True,\r\n",
    "                        random_state=0, n_nearest_features=k, sample_posterior=True)\r\n",
    "\r\n",
    "        result_datas = pd.DataFrame(np.round(imp.fit_transform(datas_test)), columns=KNN_cols)\r\n",
    "        # X = result_datas.drop(\"manufacturing_places\", axis=1)\r\n",
    "        # Y = result_datas[\"manufacturing_places\"]\r\n",
    "\r\n",
    "        # X_scaled = pd.DataFrame(StandardScaler().fit_transform(X), columns=X.columns)\r\n",
    "\r\n",
    "        # X_scaled = pd.DataFrame(StandardScaler().fit_transform(result_datas), columns=result_datas.columns)\r\n",
    "        X_scaled = pd.DataFrame(result_datas, columns=result_datas.columns)\r\n",
    "        X = X_scaled.drop(\"manufacturing_places\", axis=1)\r\n",
    "        Y = X_scaled[\"manufacturing_places\"]\r\n",
    "        X_train, X_test, y_train, y_test = train_test_split(X, Y, test_size=0.5, random_state=42)\r\n",
    "        # X_train, X_test, y_train, y_test = train_test_split(X_scaled, Y, test_size=0.5, random_state=42)\r\n",
    "\r\n",
    "        lr = LinearRegression().fit(X_train, y_train)\r\n",
    "        pred = lr.predict(X_test)\r\n",
    "        \r\n",
    "        r2.append(rmse(y_test, pred))\r\n",
    "        errors.append(100*(1 - lr.score(X_test, y_test)))\r\n",
    "        r3.append(rmsle(y_test, pred))\r\n",
    "\r\n",
    "    k = errors.index(min(errors)) +2\r\n",
    "    print(f\"R2: le nombre de neighbors optimal est {k} à {min(errors)}%\")\r\n",
    "    plt.plot(range(2,27), errors, 'o-')\r\n",
    "    plt.show()\r\n",
    "\r\n",
    "    max_r2_Iter = min(r2)\r\n",
    "    n_nearest = r2.index(min(r2)) +2\r\n",
    "    print(f\"le nombre de neighbors optimal est {n_nearest} à %{min(r2)}\")\r\n",
    "    plt.plot(range(2,27), r2, 'o-')\r\n",
    "    plt.show()\r\n",
    "\r\n",
    "    max_r2_Iter = min(r3)\r\n",
    "    n_nearest = r3.index(min(r3)) +2\r\n",
    "    print(f\"le nombre de neighbors optimal est {n_nearest} à %{min(r3)}\")\r\n",
    "    plt.plot(range(2,27), r3, 'o-')\r\n",
    "    plt.show()\r\n",
    "    # if boolean:\r\n",
    "    #     n_nearest = k\r\n",
    "    #     estimator = name\r\n",
    "    #     boolean = False\r\n",
    "    #     max_r2_Iter = max(r2)\r\n",
    "    # else:\r\n",
    "    #     if max_r2_Iter < max(r2):\r\n",
    "    #         n_nearest = k\r\n",
    "    #         estimator = name\r\n",
    "    #         max_r2_Iter = max(r2)\r\n"
   ],
   "outputs": [
    {
     "output_type": "stream",
     "name": "stdout",
     "text": [
      "R2: le nombre de neighbors optimal est 2 à 83.65538595467599%\n"
     ]
    },
    {
     "output_type": "display_data",
     "data": {
      "text/plain": [
       "<Figure size 432x288 with 1 Axes>"
      ],
      "image/png": "[encoded data removed]"
     },
     "metadata": {
      "needs_background": "light"
     }
    },
    {
     "output_type": "stream",
     "name": "stdout",
     "text": [
      "le nombre de neighbors optimal est 2 à %5821.991382071317\n"
     ]
    },
    {
     "output_type": "display_data",
     "data": {
      "text/plain": [
       "<Figure size 432x288 with 1 Axes>"
      ],
      "image/png": "[encoded data removed]"
     },
     "metadata": {
      "needs_background": "light"
     }
    },
    {
     "output_type": "stream",
     "name": "stdout",
     "text": [
      "le nombre de neighbors optimal est 2 à %0.6753741694401164\n"
     ]
    },
    {
     "output_type": "display_data",
     "data": {
      "text/plain": [
       "<Figure size 432x288 with 1 Axes>"
      ],
      "image/png": "[encoded data removed]"
     },
     "metadata": {
      "needs_background": "light"
     }
    }
   ],
   "metadata": {}
  },
  {
   "cell_type": "code",
   "execution_count": 61,
   "source": [
    "print(f\"IterativeImputer results:\\nBest nearest features: {n_nearest}\\nScore (RMSE): {max_r2_Iter}\")"
   ],
   "outputs": [
    {
     "output_type": "stream",
     "name": "stdout",
     "text": [
      "IterativeImputer results:\n",
      "Best nearest features: 2\n",
      "Score (RMSE): 0.6753741694401164\n"
     ]
    }
   ],
   "metadata": {}
  },
  {
   "cell_type": "markdown",
   "source": [
    "Je choisis le KNNImputer pour imputer les valeurs manquantes de \"origins\""
   ],
   "metadata": {}
  },
  {
   "cell_type": "code",
   "execution_count": null,
   "source": [
    "\r\n",
    "with joblib.parallel_backend(\"dask\"):\r\n",
    "    imp = KNNImputer(n_neighbors=n_neighb, weights=weight, missing_values=np.nan)\r\n",
    "    \r\n",
    "    resulting_datas = pd.DataFrame(np.round(imp.fit_transform(df_KNN[[\"manufacturing_places\", \"countries\", \"origins\"]])), \r\n",
    "        columns=[\"manufacturing_places\", \"countries\", \"origins\"])"
   ],
   "outputs": [],
   "metadata": {}
  },
  {
   "cell_type": "code",
   "execution_count": null,
   "source": [
    "resulting_datas[\"brands\"] = df_KNN.loc[:,\"brands\"]\r\n",
    "# decoded_datas = \r\n",
    "copy = pd.DataFrame()\r\n",
    "for col in [\"brands\", \"manufacturing_places\", \"countries\", \"origins\"]:\r\n",
    "    copy[col] = resulting_datas[col]\r\n",
    "\r\n",
    "decoded_datas = pd.DataFrame(enc.inverse_transform(copy), columns=[\"brands\", \"manufacturing_places\", \"countries\", \"origins\"])\r\n",
    "decoded_datas\r\n",
    "# print(resulting_datas)\r\n",
    "# print(df_KNN)\r\n",
    "# decoded_datas\r\n",
    "# for col in resulting_datas.columns:\r\n",
    "#     print(f\"{len(resulting_datas[col])} *** {col}\")"
   ],
   "outputs": [],
   "metadata": {}
  },
  {
   "cell_type": "code",
   "execution_count": null,
   "source": [
    "datas_final = pd.concat([decoded_datas, datas_other], axis=1)\r\n",
    "datas_final.head(50)"
   ],
   "outputs": [],
   "metadata": {}
  },
  {
   "cell_type": "code",
   "execution_count": null,
   "source": [
    "# datas_final.to_csv(\"PSante_04_app_products.csv\", index=False, encoding=\"utf-8\")"
   ],
   "outputs": [],
   "metadata": {}
  }
 ],
 "metadata": {
  "interpreter": {
   "hash": "729b65901c6f8275f7fcda51632ecfc389a7b25ee0d12ee84212eeaa9ad700cb"
  },
  "kernelspec": {
   "name": "python3",
   "display_name": "Python 3.9.0 64-bit"
  },
  "language_info": {
   "codemirror_mode": {
    "name": "ipython",
    "version": 3
   },
   "file_extension": ".py",
   "mimetype": "text/x-python",
   "name": "python",
   "nbconvert_exporter": "python",
   "pygments_lexer": "ipython3",
   "version": "3.9.0"
  },
  "orig_nbformat": 4
 },
 "nbformat": 4,
 "nbformat_minor": 2
}